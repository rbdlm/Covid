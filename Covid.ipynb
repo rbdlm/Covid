{
  "nbformat": 4,
  "nbformat_minor": 0,
  "metadata": {
    "colab": {
      "name": "Covid.ipynb",
      "provenance": [],
      "include_colab_link": true
    },
    "kernelspec": {
      "name": "python3",
      "display_name": "Python 3"
    }
  },
  "cells": [
    {
      "cell_type": "markdown",
      "metadata": {
        "id": "view-in-github",
        "colab_type": "text"
      },
      "source": [
        "<a href=\"https://colab.research.google.com/github/rbdlm/Covid/blob/main/Covid.ipynb\" target=\"_parent\"><img src=\"https://colab.research.google.com/assets/colab-badge.svg\" alt=\"Open In Colab\"/></a>"
      ]
    },
    {
      "cell_type": "markdown",
      "metadata": {
        "id": "AY3N9sNWLBMf"
      },
      "source": [
        "## Importações"
      ]
    },
    {
      "cell_type": "code",
      "metadata": {
        "id": "WMXlsqrn8Zt-",
        "outputId": "bfb97082-7baa-4948-a698-75f6263a6cf8",
        "colab": {
          "base_uri": "https://localhost:8080/"
        }
      },
      "source": [
        "from google.colab import drive\n",
        "drive.mount('/content/drive')"
      ],
      "execution_count": 1,
      "outputs": [
        {
          "output_type": "stream",
          "text": [
            "Mounted at /content/drive\n"
          ],
          "name": "stdout"
        }
      ]
    },
    {
      "cell_type": "code",
      "metadata": {
        "id": "JyuvUJowRCVP"
      },
      "source": [
        "import pandas as pd\n",
        "import matplotlib.pyplot as plt\n",
        "from prettytable import PrettyTable\n",
        "import statistics as st\n",
        "import numpy as np\n",
        "import seaborn as sns\n",
        "from scipy import stats\n",
        "from datetime import timedelta as dt\n",
        "import re\n",
        "from collections import Counter\n",
        "from scipy.stats import t,norm"
      ],
      "execution_count": 230,
      "outputs": []
    },
    {
      "cell_type": "markdown",
      "metadata": {
        "id": "CFlOLjq9RIrC"
      },
      "source": [
        "## Dataset e Limpeza"
      ]
    },
    {
      "cell_type": "code",
      "metadata": {
        "id": "CKd444J180Rr",
        "outputId": "f2c7bb92-aafb-4bd2-bd9b-e4d00aeb216d",
        "colab": {
          "base_uri": "https://localhost:8080/",
          "height": 311
        }
      },
      "source": [
        "df = pd.read_csv('/content/drive/My Drive/Datasets/COVID19_line_list_data.csv')\n",
        "df.head(2)"
      ],
      "execution_count": 115,
      "outputs": [
        {
          "output_type": "execute_result",
          "data": {
            "text/html": [
              "<div>\n",
              "<style scoped>\n",
              "    .dataframe tbody tr th:only-of-type {\n",
              "        vertical-align: middle;\n",
              "    }\n",
              "\n",
              "    .dataframe tbody tr th {\n",
              "        vertical-align: top;\n",
              "    }\n",
              "\n",
              "    .dataframe thead th {\n",
              "        text-align: right;\n",
              "    }\n",
              "</style>\n",
              "<table border=\"1\" class=\"dataframe\">\n",
              "  <thead>\n",
              "    <tr style=\"text-align: right;\">\n",
              "      <th></th>\n",
              "      <th>id</th>\n",
              "      <th>case_in_country</th>\n",
              "      <th>reporting date</th>\n",
              "      <th>Unnamed: 3</th>\n",
              "      <th>summary</th>\n",
              "      <th>location</th>\n",
              "      <th>country</th>\n",
              "      <th>gender</th>\n",
              "      <th>age</th>\n",
              "      <th>symptom_onset</th>\n",
              "      <th>If_onset_approximated</th>\n",
              "      <th>hosp_visit_date</th>\n",
              "      <th>exposure_start</th>\n",
              "      <th>exposure_end</th>\n",
              "      <th>visiting Wuhan</th>\n",
              "      <th>from Wuhan</th>\n",
              "      <th>death</th>\n",
              "      <th>recovered</th>\n",
              "      <th>symptom</th>\n",
              "      <th>source</th>\n",
              "      <th>link</th>\n",
              "      <th>Unnamed: 21</th>\n",
              "      <th>Unnamed: 22</th>\n",
              "      <th>Unnamed: 23</th>\n",
              "      <th>Unnamed: 24</th>\n",
              "      <th>Unnamed: 25</th>\n",
              "      <th>Unnamed: 26</th>\n",
              "    </tr>\n",
              "  </thead>\n",
              "  <tbody>\n",
              "    <tr>\n",
              "      <th>0</th>\n",
              "      <td>1</td>\n",
              "      <td>NaN</td>\n",
              "      <td>1/20/2020</td>\n",
              "      <td>NaN</td>\n",
              "      <td>First confirmed imported COVID-19 pneumonia pa...</td>\n",
              "      <td>Shenzhen, Guangdong</td>\n",
              "      <td>China</td>\n",
              "      <td>male</td>\n",
              "      <td>66.0</td>\n",
              "      <td>01/03/20</td>\n",
              "      <td>0.0</td>\n",
              "      <td>01/11/20</td>\n",
              "      <td>12/29/2019</td>\n",
              "      <td>01/04/20</td>\n",
              "      <td>1</td>\n",
              "      <td>0.0</td>\n",
              "      <td>0</td>\n",
              "      <td>0</td>\n",
              "      <td>NaN</td>\n",
              "      <td>Shenzhen Municipal Health Commission</td>\n",
              "      <td>http://wjw.sz.gov.cn/wzx/202001/t20200120_1898...</td>\n",
              "      <td>NaN</td>\n",
              "      <td>NaN</td>\n",
              "      <td>NaN</td>\n",
              "      <td>NaN</td>\n",
              "      <td>NaN</td>\n",
              "      <td>NaN</td>\n",
              "    </tr>\n",
              "    <tr>\n",
              "      <th>1</th>\n",
              "      <td>2</td>\n",
              "      <td>NaN</td>\n",
              "      <td>1/20/2020</td>\n",
              "      <td>NaN</td>\n",
              "      <td>First confirmed imported COVID-19 pneumonia pa...</td>\n",
              "      <td>Shanghai</td>\n",
              "      <td>China</td>\n",
              "      <td>female</td>\n",
              "      <td>56.0</td>\n",
              "      <td>1/15/2020</td>\n",
              "      <td>0.0</td>\n",
              "      <td>1/15/2020</td>\n",
              "      <td>NaN</td>\n",
              "      <td>01/12/20</td>\n",
              "      <td>0</td>\n",
              "      <td>1.0</td>\n",
              "      <td>0</td>\n",
              "      <td>0</td>\n",
              "      <td>NaN</td>\n",
              "      <td>Official Weibo of Shanghai Municipal Health Co...</td>\n",
              "      <td>https://www.weibo.com/2372649470/IqogQhgfa?fro...</td>\n",
              "      <td>NaN</td>\n",
              "      <td>NaN</td>\n",
              "      <td>NaN</td>\n",
              "      <td>NaN</td>\n",
              "      <td>NaN</td>\n",
              "      <td>NaN</td>\n",
              "    </tr>\n",
              "  </tbody>\n",
              "</table>\n",
              "</div>"
            ],
            "text/plain": [
              "   id  case_in_country reporting date  ...  Unnamed: 24 Unnamed: 25 Unnamed: 26\n",
              "0   1              NaN      1/20/2020  ...          NaN         NaN         NaN\n",
              "1   2              NaN      1/20/2020  ...          NaN         NaN         NaN\n",
              "\n",
              "[2 rows x 27 columns]"
            ]
          },
          "metadata": {
            "tags": []
          },
          "execution_count": 115
        }
      ]
    },
    {
      "cell_type": "code",
      "metadata": {
        "id": "qR2TNl32B__4",
        "outputId": "75173893-4e4a-417d-c0d2-f17a783bd4c6",
        "colab": {
          "base_uri": "https://localhost:8080/",
          "height": 1000
        }
      },
      "source": [
        "df_covid = df.copy()\n",
        "df_covid.drop(df_covid.columns[[0, 1, 3, 4, 5, 10, 14, 15, 17, 18, 19, 20, 21, 22, 23, 24, 25, 26]], axis=1, inplace=True)\n",
        "df_covid.dropna(inplace=True)\n",
        "df_covid.reset_index(drop=True, inplace=True)\n",
        "\n",
        "df_covid['reporting date'] = pd.to_datetime(df_covid['reporting date'].apply(lambda x: re.sub(r'/20$','/2020', x)), format='%m/%d/%Y')\n",
        "df_covid['symptom_onset'] = pd.to_datetime(df_covid['symptom_onset'].apply(lambda x: re.sub(r'/20$','/2020', x)), format='%m/%d/%Y')\n",
        "df_covid['hosp_visit_date'] = pd.to_datetime(df_covid['hosp_visit_date'].apply(lambda x: re.sub(r'/20$','/2020', x)), format='%m/%d/%Y')\n",
        "df_covid['exposure_start'] = pd.to_datetime(df_covid['exposure_start'].apply(lambda x: re.sub(r'/20$','/2020', x)), format='%m/%d/%Y')\n",
        "df_covid['exposure_end'] = pd.to_datetime(df_covid['exposure_end'].apply(lambda x: re.sub(r'/20$','/2020', x)), format='%m/%d/%Y')\n",
        "\n",
        "df_covid['exposure_duration'] = df_covid['exposure_end'] - df_covid['exposure_start']\n",
        "df_covid['symptom_hospital'] = df_covid['hosp_visit_date'] - df_covid['symptom_onset']\n",
        "df_covid['reporting'] = df_covid['reporting date'] - df_covid['hosp_visit_date']\n",
        "df_covid.drop(df_covid[['exposure_end', 'exposure_start', 'hosp_visit_date', 'symptom_onset', 'reporting date', 'death']], axis=1, inplace=True)\n",
        "\n",
        "df_covid['exposure_duration'] = df_covid['exposure_duration'].dt.days.astype('int16')\n",
        "df_covid['symptom_hospital'] = df_covid['symptom_hospital'].dt.days.astype('int16')\n",
        "df_covid['reporting'] = df_covid['reporting'].dt.days.astype('int16')\n",
        "df_covid"
      ],
      "execution_count": 195,
      "outputs": [
        {
          "output_type": "execute_result",
          "data": {
            "text/html": [
              "<div>\n",
              "<style scoped>\n",
              "    .dataframe tbody tr th:only-of-type {\n",
              "        vertical-align: middle;\n",
              "    }\n",
              "\n",
              "    .dataframe tbody tr th {\n",
              "        vertical-align: top;\n",
              "    }\n",
              "\n",
              "    .dataframe thead th {\n",
              "        text-align: right;\n",
              "    }\n",
              "</style>\n",
              "<table border=\"1\" class=\"dataframe\">\n",
              "  <thead>\n",
              "    <tr style=\"text-align: right;\">\n",
              "      <th></th>\n",
              "      <th>country</th>\n",
              "      <th>gender</th>\n",
              "      <th>age</th>\n",
              "      <th>exposure_duration</th>\n",
              "      <th>symptom_hospital</th>\n",
              "      <th>reporting</th>\n",
              "    </tr>\n",
              "  </thead>\n",
              "  <tbody>\n",
              "    <tr>\n",
              "      <th>0</th>\n",
              "      <td>China</td>\n",
              "      <td>male</td>\n",
              "      <td>66.0</td>\n",
              "      <td>6</td>\n",
              "      <td>8</td>\n",
              "      <td>9</td>\n",
              "    </tr>\n",
              "    <tr>\n",
              "      <th>1</th>\n",
              "      <td>China</td>\n",
              "      <td>male</td>\n",
              "      <td>37.0</td>\n",
              "      <td>1</td>\n",
              "      <td>6</td>\n",
              "      <td>1</td>\n",
              "    </tr>\n",
              "    <tr>\n",
              "      <th>2</th>\n",
              "      <td>China</td>\n",
              "      <td>male</td>\n",
              "      <td>39.0</td>\n",
              "      <td>1</td>\n",
              "      <td>5</td>\n",
              "      <td>7</td>\n",
              "    </tr>\n",
              "    <tr>\n",
              "      <th>3</th>\n",
              "      <td>China</td>\n",
              "      <td>male</td>\n",
              "      <td>56.0</td>\n",
              "      <td>8</td>\n",
              "      <td>4</td>\n",
              "      <td>1</td>\n",
              "    </tr>\n",
              "    <tr>\n",
              "      <th>4</th>\n",
              "      <td>China</td>\n",
              "      <td>female</td>\n",
              "      <td>18.0</td>\n",
              "      <td>5</td>\n",
              "      <td>1</td>\n",
              "      <td>1</td>\n",
              "    </tr>\n",
              "    <tr>\n",
              "      <th>5</th>\n",
              "      <td>China</td>\n",
              "      <td>female</td>\n",
              "      <td>32.0</td>\n",
              "      <td>4</td>\n",
              "      <td>5</td>\n",
              "      <td>1</td>\n",
              "    </tr>\n",
              "    <tr>\n",
              "      <th>6</th>\n",
              "      <td>China</td>\n",
              "      <td>male</td>\n",
              "      <td>45.0</td>\n",
              "      <td>3</td>\n",
              "      <td>2</td>\n",
              "      <td>1</td>\n",
              "    </tr>\n",
              "    <tr>\n",
              "      <th>7</th>\n",
              "      <td>China</td>\n",
              "      <td>female</td>\n",
              "      <td>50.0</td>\n",
              "      <td>2</td>\n",
              "      <td>8</td>\n",
              "      <td>0</td>\n",
              "    </tr>\n",
              "    <tr>\n",
              "      <th>8</th>\n",
              "      <td>China</td>\n",
              "      <td>male</td>\n",
              "      <td>43.0</td>\n",
              "      <td>6</td>\n",
              "      <td>3</td>\n",
              "      <td>2</td>\n",
              "    </tr>\n",
              "    <tr>\n",
              "      <th>9</th>\n",
              "      <td>China</td>\n",
              "      <td>male</td>\n",
              "      <td>42.0</td>\n",
              "      <td>3</td>\n",
              "      <td>1</td>\n",
              "      <td>2</td>\n",
              "    </tr>\n",
              "    <tr>\n",
              "      <th>10</th>\n",
              "      <td>China</td>\n",
              "      <td>female</td>\n",
              "      <td>32.0</td>\n",
              "      <td>2</td>\n",
              "      <td>4</td>\n",
              "      <td>3</td>\n",
              "    </tr>\n",
              "    <tr>\n",
              "      <th>11</th>\n",
              "      <td>China</td>\n",
              "      <td>male</td>\n",
              "      <td>22.0</td>\n",
              "      <td>2</td>\n",
              "      <td>1</td>\n",
              "      <td>2</td>\n",
              "    </tr>\n",
              "    <tr>\n",
              "      <th>12</th>\n",
              "      <td>China</td>\n",
              "      <td>male</td>\n",
              "      <td>29.0</td>\n",
              "      <td>3</td>\n",
              "      <td>1</td>\n",
              "      <td>0</td>\n",
              "    </tr>\n",
              "    <tr>\n",
              "      <th>13</th>\n",
              "      <td>China</td>\n",
              "      <td>male</td>\n",
              "      <td>30.0</td>\n",
              "      <td>2</td>\n",
              "      <td>0</td>\n",
              "      <td>1</td>\n",
              "    </tr>\n",
              "    <tr>\n",
              "      <th>14</th>\n",
              "      <td>China</td>\n",
              "      <td>male</td>\n",
              "      <td>41.0</td>\n",
              "      <td>1</td>\n",
              "      <td>9</td>\n",
              "      <td>2</td>\n",
              "    </tr>\n",
              "    <tr>\n",
              "      <th>15</th>\n",
              "      <td>China</td>\n",
              "      <td>male</td>\n",
              "      <td>28.0</td>\n",
              "      <td>13</td>\n",
              "      <td>3</td>\n",
              "      <td>2</td>\n",
              "    </tr>\n",
              "    <tr>\n",
              "      <th>16</th>\n",
              "      <td>China</td>\n",
              "      <td>male</td>\n",
              "      <td>33.0</td>\n",
              "      <td>11</td>\n",
              "      <td>2</td>\n",
              "      <td>1</td>\n",
              "    </tr>\n",
              "    <tr>\n",
              "      <th>17</th>\n",
              "      <td>China</td>\n",
              "      <td>male</td>\n",
              "      <td>44.0</td>\n",
              "      <td>1</td>\n",
              "      <td>6</td>\n",
              "      <td>1</td>\n",
              "    </tr>\n",
              "    <tr>\n",
              "      <th>18</th>\n",
              "      <td>China</td>\n",
              "      <td>female</td>\n",
              "      <td>32.0</td>\n",
              "      <td>2</td>\n",
              "      <td>5</td>\n",
              "      <td>3</td>\n",
              "    </tr>\n",
              "    <tr>\n",
              "      <th>19</th>\n",
              "      <td>China</td>\n",
              "      <td>male</td>\n",
              "      <td>50.0</td>\n",
              "      <td>4</td>\n",
              "      <td>4</td>\n",
              "      <td>5</td>\n",
              "    </tr>\n",
              "    <tr>\n",
              "      <th>20</th>\n",
              "      <td>China</td>\n",
              "      <td>female</td>\n",
              "      <td>40.0</td>\n",
              "      <td>4</td>\n",
              "      <td>4</td>\n",
              "      <td>5</td>\n",
              "    </tr>\n",
              "    <tr>\n",
              "      <th>21</th>\n",
              "      <td>China</td>\n",
              "      <td>female</td>\n",
              "      <td>42.0</td>\n",
              "      <td>0</td>\n",
              "      <td>1</td>\n",
              "      <td>3</td>\n",
              "    </tr>\n",
              "    <tr>\n",
              "      <th>22</th>\n",
              "      <td>Japan</td>\n",
              "      <td>male</td>\n",
              "      <td>65.0</td>\n",
              "      <td>8</td>\n",
              "      <td>3</td>\n",
              "      <td>11</td>\n",
              "    </tr>\n",
              "    <tr>\n",
              "      <th>23</th>\n",
              "      <td>Japan</td>\n",
              "      <td>female</td>\n",
              "      <td>45.0</td>\n",
              "      <td>5</td>\n",
              "      <td>0</td>\n",
              "      <td>9</td>\n",
              "    </tr>\n",
              "    <tr>\n",
              "      <th>24</th>\n",
              "      <td>Japan</td>\n",
              "      <td>male</td>\n",
              "      <td>55.0</td>\n",
              "      <td>20</td>\n",
              "      <td>2</td>\n",
              "      <td>3</td>\n",
              "    </tr>\n",
              "    <tr>\n",
              "      <th>25</th>\n",
              "      <td>Japan</td>\n",
              "      <td>female</td>\n",
              "      <td>35.0</td>\n",
              "      <td>1</td>\n",
              "      <td>0</td>\n",
              "      <td>6</td>\n",
              "    </tr>\n",
              "    <tr>\n",
              "      <th>26</th>\n",
              "      <td>Japan</td>\n",
              "      <td>female</td>\n",
              "      <td>25.0</td>\n",
              "      <td>1</td>\n",
              "      <td>5</td>\n",
              "      <td>2</td>\n",
              "    </tr>\n",
              "    <tr>\n",
              "      <th>27</th>\n",
              "      <td>Japan</td>\n",
              "      <td>female</td>\n",
              "      <td>25.0</td>\n",
              "      <td>5</td>\n",
              "      <td>9</td>\n",
              "      <td>2</td>\n",
              "    </tr>\n",
              "    <tr>\n",
              "      <th>28</th>\n",
              "      <td>Japan</td>\n",
              "      <td>female</td>\n",
              "      <td>55.0</td>\n",
              "      <td>0</td>\n",
              "      <td>0</td>\n",
              "      <td>4</td>\n",
              "    </tr>\n",
              "    <tr>\n",
              "      <th>29</th>\n",
              "      <td>Japan</td>\n",
              "      <td>male</td>\n",
              "      <td>55.0</td>\n",
              "      <td>6</td>\n",
              "      <td>3</td>\n",
              "      <td>1</td>\n",
              "    </tr>\n",
              "    <tr>\n",
              "      <th>30</th>\n",
              "      <td>Japan</td>\n",
              "      <td>female</td>\n",
              "      <td>55.0</td>\n",
              "      <td>4</td>\n",
              "      <td>3</td>\n",
              "      <td>1</td>\n",
              "    </tr>\n",
              "    <tr>\n",
              "      <th>31</th>\n",
              "      <td>Singapore</td>\n",
              "      <td>female</td>\n",
              "      <td>28.0</td>\n",
              "      <td>0</td>\n",
              "      <td>5</td>\n",
              "      <td>1</td>\n",
              "    </tr>\n",
              "    <tr>\n",
              "      <th>32</th>\n",
              "      <td>Singapore</td>\n",
              "      <td>female</td>\n",
              "      <td>48.0</td>\n",
              "      <td>0</td>\n",
              "      <td>9</td>\n",
              "      <td>1</td>\n",
              "    </tr>\n",
              "    <tr>\n",
              "      <th>33</th>\n",
              "      <td>Singapore</td>\n",
              "      <td>male</td>\n",
              "      <td>45.0</td>\n",
              "      <td>11</td>\n",
              "      <td>1</td>\n",
              "      <td>3</td>\n",
              "    </tr>\n",
              "    <tr>\n",
              "      <th>34</th>\n",
              "      <td>Singapore</td>\n",
              "      <td>male</td>\n",
              "      <td>27.0</td>\n",
              "      <td>2</td>\n",
              "      <td>7</td>\n",
              "      <td>9</td>\n",
              "    </tr>\n",
              "    <tr>\n",
              "      <th>35</th>\n",
              "      <td>Singapore</td>\n",
              "      <td>female</td>\n",
              "      <td>38.0</td>\n",
              "      <td>2</td>\n",
              "      <td>8</td>\n",
              "      <td>7</td>\n",
              "    </tr>\n",
              "    <tr>\n",
              "      <th>36</th>\n",
              "      <td>Singapore</td>\n",
              "      <td>male</td>\n",
              "      <td>51.0</td>\n",
              "      <td>2</td>\n",
              "      <td>5</td>\n",
              "      <td>5</td>\n",
              "    </tr>\n",
              "    <tr>\n",
              "      <th>37</th>\n",
              "      <td>South Korea</td>\n",
              "      <td>male</td>\n",
              "      <td>37.0</td>\n",
              "      <td>5</td>\n",
              "      <td>9</td>\n",
              "      <td>1</td>\n",
              "    </tr>\n",
              "    <tr>\n",
              "      <th>38</th>\n",
              "      <td>Taiwan</td>\n",
              "      <td>female</td>\n",
              "      <td>50.0</td>\n",
              "      <td>2</td>\n",
              "      <td>3</td>\n",
              "      <td>2</td>\n",
              "    </tr>\n",
              "    <tr>\n",
              "      <th>39</th>\n",
              "      <td>Germany</td>\n",
              "      <td>male</td>\n",
              "      <td>41.0</td>\n",
              "      <td>0</td>\n",
              "      <td>6</td>\n",
              "      <td>0</td>\n",
              "    </tr>\n",
              "    <tr>\n",
              "      <th>40</th>\n",
              "      <td>Hong Kong</td>\n",
              "      <td>male</td>\n",
              "      <td>56.0</td>\n",
              "      <td>9</td>\n",
              "      <td>1</td>\n",
              "      <td>3</td>\n",
              "    </tr>\n",
              "    <tr>\n",
              "      <th>41</th>\n",
              "      <td>Hong Kong</td>\n",
              "      <td>female</td>\n",
              "      <td>37.0</td>\n",
              "      <td>6</td>\n",
              "      <td>2</td>\n",
              "      <td>0</td>\n",
              "    </tr>\n",
              "    <tr>\n",
              "      <th>42</th>\n",
              "      <td>Hong Kong</td>\n",
              "      <td>male</td>\n",
              "      <td>39.0</td>\n",
              "      <td>2</td>\n",
              "      <td>0</td>\n",
              "      <td>0</td>\n",
              "    </tr>\n",
              "    <tr>\n",
              "      <th>43</th>\n",
              "      <td>Hong Kong</td>\n",
              "      <td>male</td>\n",
              "      <td>80.0</td>\n",
              "      <td>0</td>\n",
              "      <td>11</td>\n",
              "      <td>3</td>\n",
              "    </tr>\n",
              "    <tr>\n",
              "      <th>44</th>\n",
              "      <td>Hong Kong</td>\n",
              "      <td>female</td>\n",
              "      <td>72.0</td>\n",
              "      <td>8</td>\n",
              "      <td>0</td>\n",
              "      <td>1</td>\n",
              "    </tr>\n",
              "    <tr>\n",
              "      <th>45</th>\n",
              "      <td>Hong Kong</td>\n",
              "      <td>male</td>\n",
              "      <td>42.0</td>\n",
              "      <td>11</td>\n",
              "      <td>0</td>\n",
              "      <td>4</td>\n",
              "    </tr>\n",
              "    <tr>\n",
              "      <th>46</th>\n",
              "      <td>Hong Kong</td>\n",
              "      <td>female</td>\n",
              "      <td>55.0</td>\n",
              "      <td>0</td>\n",
              "      <td>0</td>\n",
              "      <td>11</td>\n",
              "    </tr>\n",
              "    <tr>\n",
              "      <th>47</th>\n",
              "      <td>Hong Kong</td>\n",
              "      <td>male</td>\n",
              "      <td>52.0</td>\n",
              "      <td>0</td>\n",
              "      <td>1</td>\n",
              "      <td>1</td>\n",
              "    </tr>\n",
              "    <tr>\n",
              "      <th>48</th>\n",
              "      <td>Hong Kong</td>\n",
              "      <td>male</td>\n",
              "      <td>43.0</td>\n",
              "      <td>0</td>\n",
              "      <td>2</td>\n",
              "      <td>13</td>\n",
              "    </tr>\n",
              "    <tr>\n",
              "      <th>49</th>\n",
              "      <td>Hong Kong</td>\n",
              "      <td>female</td>\n",
              "      <td>67.0</td>\n",
              "      <td>0</td>\n",
              "      <td>0</td>\n",
              "      <td>13</td>\n",
              "    </tr>\n",
              "    <tr>\n",
              "      <th>50</th>\n",
              "      <td>Hong Kong</td>\n",
              "      <td>male</td>\n",
              "      <td>37.0</td>\n",
              "      <td>0</td>\n",
              "      <td>1</td>\n",
              "      <td>4</td>\n",
              "    </tr>\n",
              "    <tr>\n",
              "      <th>51</th>\n",
              "      <td>Hong Kong</td>\n",
              "      <td>male</td>\n",
              "      <td>68.0</td>\n",
              "      <td>26</td>\n",
              "      <td>2</td>\n",
              "      <td>1</td>\n",
              "    </tr>\n",
              "    <tr>\n",
              "      <th>52</th>\n",
              "      <td>Hong Kong</td>\n",
              "      <td>female</td>\n",
              "      <td>21.0</td>\n",
              "      <td>28</td>\n",
              "      <td>13</td>\n",
              "      <td>1</td>\n",
              "    </tr>\n",
              "    <tr>\n",
              "      <th>53</th>\n",
              "      <td>Hong Kong</td>\n",
              "      <td>male</td>\n",
              "      <td>16.0</td>\n",
              "      <td>28</td>\n",
              "      <td>8</td>\n",
              "      <td>1</td>\n",
              "    </tr>\n",
              "  </tbody>\n",
              "</table>\n",
              "</div>"
            ],
            "text/plain": [
              "        country  gender   age  exposure_duration  symptom_hospital  reporting\n",
              "0         China    male  66.0                  6                 8          9\n",
              "1         China    male  37.0                  1                 6          1\n",
              "2         China    male  39.0                  1                 5          7\n",
              "3         China    male  56.0                  8                 4          1\n",
              "4         China  female  18.0                  5                 1          1\n",
              "5         China  female  32.0                  4                 5          1\n",
              "6         China    male  45.0                  3                 2          1\n",
              "7         China  female  50.0                  2                 8          0\n",
              "8         China    male  43.0                  6                 3          2\n",
              "9         China    male  42.0                  3                 1          2\n",
              "10        China  female  32.0                  2                 4          3\n",
              "11        China    male  22.0                  2                 1          2\n",
              "12        China    male  29.0                  3                 1          0\n",
              "13        China    male  30.0                  2                 0          1\n",
              "14        China    male  41.0                  1                 9          2\n",
              "15        China    male  28.0                 13                 3          2\n",
              "16        China    male  33.0                 11                 2          1\n",
              "17        China    male  44.0                  1                 6          1\n",
              "18        China  female  32.0                  2                 5          3\n",
              "19        China    male  50.0                  4                 4          5\n",
              "20        China  female  40.0                  4                 4          5\n",
              "21        China  female  42.0                  0                 1          3\n",
              "22        Japan    male  65.0                  8                 3         11\n",
              "23        Japan  female  45.0                  5                 0          9\n",
              "24        Japan    male  55.0                 20                 2          3\n",
              "25        Japan  female  35.0                  1                 0          6\n",
              "26        Japan  female  25.0                  1                 5          2\n",
              "27        Japan  female  25.0                  5                 9          2\n",
              "28        Japan  female  55.0                  0                 0          4\n",
              "29        Japan    male  55.0                  6                 3          1\n",
              "30        Japan  female  55.0                  4                 3          1\n",
              "31    Singapore  female  28.0                  0                 5          1\n",
              "32    Singapore  female  48.0                  0                 9          1\n",
              "33    Singapore    male  45.0                 11                 1          3\n",
              "34    Singapore    male  27.0                  2                 7          9\n",
              "35    Singapore  female  38.0                  2                 8          7\n",
              "36    Singapore    male  51.0                  2                 5          5\n",
              "37  South Korea    male  37.0                  5                 9          1\n",
              "38       Taiwan  female  50.0                  2                 3          2\n",
              "39      Germany    male  41.0                  0                 6          0\n",
              "40    Hong Kong    male  56.0                  9                 1          3\n",
              "41    Hong Kong  female  37.0                  6                 2          0\n",
              "42    Hong Kong    male  39.0                  2                 0          0\n",
              "43    Hong Kong    male  80.0                  0                11          3\n",
              "44    Hong Kong  female  72.0                  8                 0          1\n",
              "45    Hong Kong    male  42.0                 11                 0          4\n",
              "46    Hong Kong  female  55.0                  0                 0         11\n",
              "47    Hong Kong    male  52.0                  0                 1          1\n",
              "48    Hong Kong    male  43.0                  0                 2         13\n",
              "49    Hong Kong  female  67.0                  0                 0         13\n",
              "50    Hong Kong    male  37.0                  0                 1          4\n",
              "51    Hong Kong    male  68.0                 26                 2          1\n",
              "52    Hong Kong  female  21.0                 28                13          1\n",
              "53    Hong Kong    male  16.0                 28                 8          1"
            ]
          },
          "metadata": {
            "tags": []
          },
          "execution_count": 195
        }
      ]
    },
    {
      "cell_type": "markdown",
      "metadata": {
        "id": "ImMmO2AAJ61r"
      },
      "source": [
        "## Tabelas e Gráficos"
      ]
    },
    {
      "cell_type": "markdown",
      "metadata": {
        "id": "OgMH6otdbAhN"
      },
      "source": [
        "### Country"
      ]
    },
    {
      "cell_type": "code",
      "metadata": {
        "id": "X21acQrzLxJl",
        "outputId": "44d27789-505b-4e72-e1b5-3d3cf8d65d66",
        "colab": {
          "base_uri": "https://localhost:8080/",
          "height": 622
        }
      },
      "source": [
        "country = df_covid['country'].value_counts()\n",
        "\n",
        "y_axis = [round(result/sum(country.values)*100,2) for result in country.values]\n",
        "x_axis = list(country.index)\n",
        "width_n = 0.4\n",
        "bar_color = 'blue'\n",
        "\n",
        "plt.figure(figsize=(8, 6))\n",
        "plt.barh(x_axis, y_axis, color=bar_color, align='center')\n",
        "plt.xlabel('Quantidade de casos por país (%)')\n",
        "plt.ylabel('País')\n",
        "plt.show()\n",
        "\n",
        "print('\\n\\n')\n",
        "\n",
        "x = PrettyTable(['Cidade', 'Proporção (%)', 'Quantidade'])\n",
        "x.align['Cidade'] = 'r'\n",
        "x.align['Proporção (%)'] = 'r'\n",
        "x.align['Quantidade'] = 'r'\n",
        "x.padding_width = 1\n",
        "\n",
        "for item, value in zip(country.index, country.values):\n",
        "  x.add_row([item, round(value/sum(country.values)*100,2), value])\n",
        "\n",
        "print(x)"
      ],
      "execution_count": 232,
      "outputs": [
        {
          "output_type": "display_data",
          "data": {
            "image/png": "[encoded data removed]",
            "text/plain": [
              "<Figure size 576x432 with 1 Axes>"
            ]
          },
          "metadata": {
            "tags": [],
            "needs_background": "light"
          }
        },
        {
          "output_type": "stream",
          "text": [
            "\n",
            "\n",
            "\n",
            "+-------------+---------------+------------+\n",
            "|      Cidade | Proporção (%) | Quantidade |\n",
            "+-------------+---------------+------------+\n",
            "|       China |         40.74 |         22 |\n",
            "|   Hong Kong |         25.93 |         14 |\n",
            "|       Japan |         16.67 |          9 |\n",
            "|   Singapore |         11.11 |          6 |\n",
            "| South Korea |          1.85 |          1 |\n",
            "|      Taiwan |          1.85 |          1 |\n",
            "|     Germany |          1.85 |          1 |\n",
            "+-------------+---------------+------------+\n"
          ],
          "name": "stdout"
        }
      ]
    },
    {
      "cell_type": "markdown",
      "metadata": {
        "id": "0GCEOkCgbGyR"
      },
      "source": [
        "### Gender"
      ]
    },
    {
      "cell_type": "code",
      "metadata": {
        "id": "kgtb0jcTbLYF",
        "outputId": "d043e6e1-d22f-42e2-e42e-813d71b258bb",
        "colab": {
          "base_uri": "https://localhost:8080/",
          "height": 430
        }
      },
      "source": [
        "gender = df_covid['gender'].value_counts()\n",
        "\n",
        "y_axis = [round(result/sum(gender.values)*100,2) for result in gender.values]\n",
        "x_axis = list(gender.index)\n",
        "width_n = 0.4\n",
        "bar_color = 'blue'\n",
        "\n",
        "plt.figure(figsize=(6, 4))\n",
        "plt.bar(x_axis, y_axis, color=bar_color, width = width_n, align='center')\n",
        "plt.xlabel('Quantidade de casos por gênero (%)')\n",
        "plt.ylabel('Gênero')\n",
        "plt.show()\n",
        "\n",
        "print('\\n\\n')\n",
        "\n",
        "x = PrettyTable(['Gênero', 'Proporção (%)', 'Quantidade'])\n",
        "x.align['Gênero'] = 'r'\n",
        "x.align['Proporção (%)'] = 'r'\n",
        "x.align['Quantidade'] = 'r'\n",
        "x.padding_width = 1\n",
        "\n",
        "for item, value in zip(gender.index, gender.values):\n",
        "  x.add_row([item, round(value/sum(gender.values)*100,2), value])\n",
        "\n",
        "print(x)"
      ],
      "execution_count": 233,
      "outputs": [
        {
          "output_type": "display_data",
          "data": {
            "image/png": "[encoded data removed]",
            "text/plain": [
              "<Figure size 432x288 with 1 Axes>"
            ]
          },
          "metadata": {
            "tags": [],
            "needs_background": "light"
          }
        },
        {
          "output_type": "stream",
          "text": [
            "\n",
            "\n",
            "\n",
            "+--------+---------------+------------+\n",
            "| Gênero | Proporção (%) | Quantidade |\n",
            "+--------+---------------+------------+\n",
            "|   male |         59.26 |         32 |\n",
            "| female |         40.74 |         22 |\n",
            "+--------+---------------+------------+\n"
          ],
          "name": "stdout"
        }
      ]
    },
    {
      "cell_type": "markdown",
      "metadata": {
        "id": "4MlsH6aafrSP"
      },
      "source": [
        "### Age"
      ]
    },
    {
      "cell_type": "code",
      "metadata": {
        "id": "0BUUH675SiHN",
        "outputId": "d2498327-45dd-440a-b2b8-5eebf13c7962",
        "colab": {
          "base_uri": "https://localhost:8080/",
          "height": 945
        }
      },
      "source": [
        "age = df_covid['age'].value_counts()\n",
        "\n",
        "y_axis = [round(result/sum(age.values)*100,2) for result in age.values]\n",
        "x_axis = list(age.index)\n",
        "width_n = 0.4\n",
        "bar_color = 'blue'\n",
        "\n",
        "plt.figure(figsize=(6, 4))\n",
        "plt.bar(x_axis, y_axis, color=bar_color, width = width_n, align='center')\n",
        "plt.xlabel('Quantidade de casos por idade (%)')\n",
        "plt.ylabel('Idade')\n",
        "plt.show()\n",
        "\n",
        "print('\\n\\n')\n",
        "\n",
        "x = PrettyTable(['Idade', 'Proporção (%)', 'Quantidade'])\n",
        "x.align['Idade'] = 'r'\n",
        "x.align['Proporção (%)'] = 'r'\n",
        "x.align['Quantidade'] = 'r'\n",
        "x.padding_width = 1\n",
        "\n",
        "for item, value in zip(age.index, age.values):\n",
        "  x.add_row([item, round(value/sum(age.values)*100,2), value])\n",
        "\n",
        "print(x)"
      ],
      "execution_count": 234,
      "outputs": [
        {
          "output_type": "display_data",
          "data": {
            "image/png": "[encoded data removed]",
            "text/plain": [
              "<Figure size 432x288 with 1 Axes>"
            ]
          },
          "metadata": {
            "tags": [],
            "needs_background": "light"
          }
        },
        {
          "output_type": "stream",
          "text": [
            "\n",
            "\n",
            "\n",
            "+-------+---------------+------------+\n",
            "| Idade | Proporção (%) | Quantidade |\n",
            "+-------+---------------+------------+\n",
            "|  55.0 |          9.26 |          5 |\n",
            "|  37.0 |          7.41 |          4 |\n",
            "|  50.0 |          5.56 |          3 |\n",
            "|  42.0 |          5.56 |          3 |\n",
            "|  32.0 |          5.56 |          3 |\n",
            "|  45.0 |          5.56 |          3 |\n",
            "|  43.0 |           3.7 |          2 |\n",
            "|  25.0 |           3.7 |          2 |\n",
            "|  41.0 |           3.7 |          2 |\n",
            "|  28.0 |           3.7 |          2 |\n",
            "|  56.0 |           3.7 |          2 |\n",
            "|  39.0 |           3.7 |          2 |\n",
            "|  18.0 |          1.85 |          1 |\n",
            "|  22.0 |          1.85 |          1 |\n",
            "|  29.0 |          1.85 |          1 |\n",
            "|  30.0 |          1.85 |          1 |\n",
            "|  16.0 |          1.85 |          1 |\n",
            "|  44.0 |          1.85 |          1 |\n",
            "|  33.0 |          1.85 |          1 |\n",
            "|  21.0 |          1.85 |          1 |\n",
            "|  40.0 |          1.85 |          1 |\n",
            "|  65.0 |          1.85 |          1 |\n",
            "|  35.0 |          1.85 |          1 |\n",
            "|  48.0 |          1.85 |          1 |\n",
            "|  27.0 |          1.85 |          1 |\n",
            "|  38.0 |          1.85 |          1 |\n",
            "|  51.0 |          1.85 |          1 |\n",
            "|  80.0 |          1.85 |          1 |\n",
            "|  72.0 |          1.85 |          1 |\n",
            "|  52.0 |          1.85 |          1 |\n",
            "|  67.0 |          1.85 |          1 |\n",
            "|  68.0 |          1.85 |          1 |\n",
            "|  66.0 |          1.85 |          1 |\n",
            "+-------+---------------+------------+\n"
          ],
          "name": "stdout"
        }
      ]
    },
    {
      "cell_type": "code",
      "metadata": {
        "id": "eeRlUcClpg9-",
        "outputId": "aea8f872-3650-4fe9-a5ba-2a750b984769",
        "colab": {
          "base_uri": "https://localhost:8080/",
          "height": 478
        }
      },
      "source": [
        "old_value = 0\n",
        "intervals = {}\n",
        "for i in range(20,120,20):\n",
        "  intervals[str(i)] = df_covid[(df_covid['age'] <= i) & (df_covid['age'] > old_value)]['age'].count()\n",
        "  old_value = i\n",
        "\n",
        "\n",
        "y_axis = [round(value/sum(intervals.values())*100,2) for value in intervals.values() ]\n",
        "x_axis = list(intervals.keys()) \n",
        "width_n = 0.4\n",
        "bar_color = 'blue'\n",
        "\n",
        "plt.figure(figsize=(6, 4))\n",
        "plt.bar(x_axis, y_axis, color=bar_color, width = width_n, align='center')\n",
        "plt.xlabel('Intervalo de Idade')\n",
        "plt.ylabel('Quantidade de casos por Idade (%)')\n",
        "plt.show()\n",
        "\n",
        "print('\\n\\n')\n",
        "\n",
        "x = PrettyTable(['Idade', 'Proporção (%)', 'Quantidade'])\n",
        "x.align['Idade'] = 'r'\n",
        "x.align['Proporção (%)'] = 'r'\n",
        "x.align['Quantidade'] = 'r'\n",
        "x.padding_width = 1\n",
        "\n",
        "for item, value in intervals.items():\n",
        "  x.add_row([item, round(value/sum(intervals.values())*100,2), value])\n",
        "\n",
        "print(x)"
      ],
      "execution_count": 235,
      "outputs": [
        {
          "output_type": "display_data",
          "data": {
            "image/png": "[encoded data removed]",
            "text/plain": [
              "<Figure size 432x288 with 1 Axes>"
            ]
          },
          "metadata": {
            "tags": [],
            "needs_background": "light"
          }
        },
        {
          "output_type": "stream",
          "text": [
            "\n",
            "\n",
            "\n",
            "+-------+---------------+------------+\n",
            "| Idade | Proporção (%) | Quantidade |\n",
            "+-------+---------------+------------+\n",
            "|    20 |           3.7 |          2 |\n",
            "|    40 |         40.74 |         22 |\n",
            "|    60 |         44.44 |         24 |\n",
            "|    80 |         11.11 |          6 |\n",
            "|   100 |           0.0 |          0 |\n",
            "+-------+---------------+------------+\n"
          ],
          "name": "stdout"
        }
      ]
    },
    {
      "cell_type": "markdown",
      "metadata": {
        "id": "pgbW8fT3tL9s"
      },
      "source": [
        "## Dados Estatísticos"
      ]
    },
    {
      "cell_type": "code",
      "metadata": {
        "id": "-uSSOE4DJi26"
      },
      "source": [
        "def cv(n):\n",
        "  return round(100*st.stdev(n)/st.mean(n), 2)"
      ],
      "execution_count": 236,
      "outputs": []
    },
    {
      "cell_type": "markdown",
      "metadata": {
        "id": "rKM66lxBtWni"
      },
      "source": [
        "### Idade"
      ]
    },
    {
      "cell_type": "code",
      "metadata": {
        "id": "1NddnduMtXs4",
        "outputId": "f2a39cae-0949-460e-9ba9-d46743e443d3",
        "colab": {
          "base_uri": "https://localhost:8080/",
          "height": 665
        }
      },
      "source": [
        "print('Média aritmética: ', round(st.mean(df_covid['age']),2))\n",
        "print('\\n')\n",
        "print('Mediana: ', st.median(df_covid['age']))\n",
        "print('\\n')\n",
        "print('Moda: ', st.mode(df_covid['age']))\n",
        "print('\\n')\n",
        "print('Variância: ', round(st.variance(df_covid['age']),2))\n",
        "print('Desvio Padrão: ', round(st.stdev(df_covid['age']),2))\n",
        "print('Coeficiente de Variação: ', cv(df_covid['age']))\n",
        "print('\\n')\n",
        "print('Quartil: ', np.quantile(df_covid['age'], [0, 0.25, 0.5, 0.75, 1]))\n",
        "\n",
        "print('\\n')\n",
        "\n",
        "# print(stats.describe(df_covid['age']))\n",
        "\n",
        "sns.boxplot(df_covid['age'])"
      ],
      "execution_count": 249,
      "outputs": [
        {
          "output_type": "stream",
          "text": [
            "Média aritmética:  42.89\n",
            "\n",
            "\n",
            "Mediana:  42.0\n",
            "\n",
            "\n",
            "Moda:  55.0\n",
            "\n",
            "\n",
            "Variância:  199.19\n",
            "Desvio Padrão:  14.11\n",
            "Coeficiente de Variação:  32.91\n",
            "\n",
            "\n",
            "Quartil:  [16.   32.25 42.   51.75 80.  ]\n",
            "\n",
            "\n"
          ],
          "name": "stdout"
        },
        {
          "output_type": "stream",
          "text": [
            "/usr/local/lib/python3.6/dist-packages/seaborn/_decorators.py:43: FutureWarning: Pass the following variable as a keyword arg: x. From version 0.12, the only valid positional argument will be `data`, and passing other arguments without an explicit keyword will result in an error or misinterpretation.\n",
            "  FutureWarning\n",
            "/usr/local/lib/python3.6/dist-packages/seaborn/_decorators.py:43: FutureWarning: Pass the following variable as a keyword arg: x. From version 0.12, the only valid positional argument will be `data`, and passing other arguments without an explicit keyword will result in an error or misinterpretation.\n",
            "  FutureWarning\n"
          ],
          "name": "stderr"
        },
        {
          "output_type": "execute_result",
          "data": {
            "text/plain": [
              "<matplotlib.axes._subplots.AxesSubplot at 0x7fe9c69047f0>"
            ]
          },
          "metadata": {
            "tags": []
          },
          "execution_count": 249
        },
        {
          "output_type": "display_data",
          "data": {
            "image/png": "[encoded data removed]",
            "text/plain": [
              "<Figure size 432x288 with 1 Axes>"
            ]
          },
          "metadata": {
            "tags": [],
            "needs_background": "light"
          }
        }
      ]
    },
    {
      "cell_type": "code",
      "metadata": {
        "id": "Lw1eILb9ql2n",
        "outputId": "3b6a9b52-b2c8-4e95-de35-86b470ea077d",
        "colab": {
          "base_uri": "https://localhost:8080/",
          "height": 348
        }
      },
      "source": [
        "sns.distplot(df_covid['age'],kde=True)"
      ],
      "execution_count": 250,
      "outputs": [
        {
          "output_type": "stream",
          "text": [
            "/usr/local/lib/python3.6/dist-packages/seaborn/distributions.py:2551: FutureWarning: `distplot` is a deprecated function and will be removed in a future version. Please adapt your code to use either `displot` (a figure-level function with similar flexibility) or `histplot` (an axes-level function for histograms).\n",
            "  warnings.warn(msg, FutureWarning)\n"
          ],
          "name": "stderr"
        },
        {
          "output_type": "execute_result",
          "data": {
            "text/plain": [
              "<matplotlib.axes._subplots.AxesSubplot at 0x7fe9c67184a8>"
            ]
          },
          "metadata": {
            "tags": []
          },
          "execution_count": 250
        },
        {
          "output_type": "display_data",
          "data": {
            "image/png": "[encoded data removed]",
            "text/plain": [
              "<Figure size 432x288 with 1 Axes>"
            ]
          },
          "metadata": {
            "tags": [],
            "needs_background": "light"
          }
        }
      ]
    },
    {
      "cell_type": "code",
      "metadata": {
        "id": "cy7OM58MsSJ9",
        "outputId": "11b6927e-a539-49dd-caf1-0e1d6bf36022",
        "colab": {
          "base_uri": "https://localhost:8080/"
        }
      },
      "source": [
        "df_covid['age'].kurtosis()"
      ],
      "execution_count": 258,
      "outputs": [
        {
          "output_type": "execute_result",
          "data": {
            "text/plain": [
              "-0.04586705396497326"
            ]
          },
          "metadata": {
            "tags": []
          },
          "execution_count": 258
        }
      ]
    },
    {
      "cell_type": "code",
      "metadata": {
        "id": "LBZO-6ZhsXuf"
      },
      "source": [
        ""
      ],
      "execution_count": null,
      "outputs": []
    },
    {
      "cell_type": "markdown",
      "metadata": {
        "id": "ghOIBP5DJxSh"
      },
      "source": [
        "### Exposure Duration"
      ]
    },
    {
      "cell_type": "code",
      "metadata": {
        "id": "DVBzJ68tJ6KN",
        "outputId": "e1d873ad-8fca-4d62-8b0e-c289810efc4b",
        "colab": {
          "base_uri": "https://localhost:8080/",
          "height": 633
        }
      },
      "source": [
        "print('Média aritmética: ', round(st.mean(df_covid['exposure_duration']),2))\n",
        "print('\\n')\n",
        "print('Mediana: ', st.median(df_covid['exposure_duration']))\n",
        "print('\\n')\n",
        "print('Moda: ', st.mode(df_covid['exposure_duration']))\n",
        "print('\\n')\n",
        "print('Variância: ', round(st.variance(df_covid['exposure_duration']),2))\n",
        "print('Desvio Padrão: ', round(st.stdev(df_covid['exposure_duration']),2))\n",
        "print('Coeficiente de Variação: ', cv(df_covid['exposure_duration']))\n",
        "print('\\n')\n",
        "print('Quartil: ', np.quantile(df_covid['exposure_duration'], [0, 0.25, 0.5, 0.75, 1]))\n",
        "\n",
        "print('\\n')\n",
        "\n",
        "sns.boxplot(df_covid['exposure_duration'])"
      ],
      "execution_count": 241,
      "outputs": [
        {
          "output_type": "stream",
          "text": [
            "Média aritmética:  5.11\n",
            "\n",
            "\n",
            "Mediana:  2.5\n",
            "\n",
            "\n",
            "Moda:  0\n",
            "\n",
            "\n",
            "Variância:  45.65\n",
            "Desvio Padrão:  6.76\n",
            "Coeficiente de Variação:  132.19\n",
            "\n",
            "\n",
            "Quartil:  [ 0.   1.   2.5  6.  28. ]\n",
            "\n",
            "\n"
          ],
          "name": "stdout"
        },
        {
          "output_type": "stream",
          "text": [
            "/usr/local/lib/python3.6/dist-packages/seaborn/_decorators.py:43: FutureWarning: Pass the following variable as a keyword arg: x. From version 0.12, the only valid positional argument will be `data`, and passing other arguments without an explicit keyword will result in an error or misinterpretation.\n",
            "  FutureWarning\n"
          ],
          "name": "stderr"
        },
        {
          "output_type": "execute_result",
          "data": {
            "text/plain": [
              "<matplotlib.axes._subplots.AxesSubplot at 0x7fe9d0c03588>"
            ]
          },
          "metadata": {
            "tags": []
          },
          "execution_count": 241
        },
        {
          "output_type": "display_data",
          "data": {
            "image/png": "[encoded data removed]",
            "text/plain": [
              "<Figure size 432x288 with 1 Axes>"
            ]
          },
          "metadata": {
            "tags": [],
            "needs_background": "light"
          }
        }
      ]
    },
    {
      "cell_type": "markdown",
      "metadata": {
        "id": "IEWGext_rZEk"
      },
      "source": [
        "Curtose"
      ]
    },
    {
      "cell_type": "code",
      "metadata": {
        "id": "xIMj2oIIq07q",
        "outputId": "64dd33b0-b677-450e-c126-8a58c5c94e17",
        "colab": {
          "base_uri": "https://localhost:8080/",
          "height": 350
        }
      },
      "source": [
        "sns.distplot(df_covid['exposure_duration'],kde=True)"
      ],
      "execution_count": 251,
      "outputs": [
        {
          "output_type": "stream",
          "text": [
            "/usr/local/lib/python3.6/dist-packages/seaborn/distributions.py:2551: FutureWarning: `distplot` is a deprecated function and will be removed in a future version. Please adapt your code to use either `displot` (a figure-level function with similar flexibility) or `histplot` (an axes-level function for histograms).\n",
            "  warnings.warn(msg, FutureWarning)\n"
          ],
          "name": "stderr"
        },
        {
          "output_type": "execute_result",
          "data": {
            "text/plain": [
              "<matplotlib.axes._subplots.AxesSubplot at 0x7fe9c66459b0>"
            ]
          },
          "metadata": {
            "tags": []
          },
          "execution_count": 251
        },
        {
          "output_type": "display_data",
          "data": {
            "image/png": "[encoded data removed]",
            "text/plain": [
              "<Figure size 432x288 with 1 Axes>"
            ]
          },
          "metadata": {
            "tags": [],
            "needs_background": "light"
          }
        }
      ]
    },
    {
      "cell_type": "code",
      "metadata": {
        "id": "uTxi2OCZsrCB",
        "outputId": "0fb78384-a37f-4313-bf10-e0907cc56de2",
        "colab": {
          "base_uri": "https://localhost:8080/"
        }
      },
      "source": [
        "df_covid['exposure_duration'].kurtosis()"
      ],
      "execution_count": 259,
      "outputs": [
        {
          "output_type": "execute_result",
          "data": {
            "text/plain": [
              "5.0021660751516865"
            ]
          },
          "metadata": {
            "tags": []
          },
          "execution_count": 259
        }
      ]
    },
    {
      "cell_type": "markdown",
      "metadata": {
        "id": "BFyJCykJLCV8"
      },
      "source": [
        "### Symptom Hospital"
      ]
    },
    {
      "cell_type": "code",
      "metadata": {
        "id": "tu8meUivLEn1",
        "outputId": "8505333f-22c2-455e-d558-c8190e14dc01",
        "colab": {
          "base_uri": "https://localhost:8080/",
          "height": 633
        }
      },
      "source": [
        "print('Média aritmética: ', round(st.mean(df_covid['symptom_hospital']),2))\n",
        "print('\\n')\n",
        "print('Mediana: ', st.median(df_covid['symptom_hospital']))\n",
        "print('\\n')\n",
        "print('Moda: ', Counter(df_covid['symptom_hospital']))\n",
        "print('\\n')\n",
        "print('Variância: ', round(st.variance(df_covid['symptom_hospital']),2))\n",
        "print('Desvio Padrão: ', round(st.stdev(df_covid['symptom_hospital']),2))\n",
        "print('Coeficiente de Variação: ', cv(df_covid['symptom_hospital']))\n",
        "print('\\n')\n",
        "print('Quartil: ', np.quantile(df_covid['symptom_hospital'], [0, 0.25, 0.5, 0.75, 1]))\n",
        "\n",
        "print('\\n')\n",
        "\n",
        "# print(stats.describe(df_covid['age']))\n",
        "\n",
        "sns.boxplot(df_covid['symptom_hospital'])"
      ],
      "execution_count": 242,
      "outputs": [
        {
          "output_type": "stream",
          "text": [
            "Média aritmética:  3.74\n",
            "\n",
            "\n",
            "Mediana:  3.0\n",
            "\n",
            "\n",
            "Moda:  Counter({1: 9, 0: 9, 5: 6, 2: 6, 3: 6, 8: 4, 4: 4, 9: 4, 6: 3, 7: 1, 11: 1, 13: 1})\n",
            "\n",
            "\n",
            "Variância:  10.8\n",
            "Desvio Padrão:  3.29\n",
            "Coeficiente de Variação:  87.85\n",
            "\n",
            "\n",
            "Quartil:  [ 0.    1.    3.    5.75 13.  ]\n",
            "\n",
            "\n"
          ],
          "name": "stdout"
        },
        {
          "output_type": "stream",
          "text": [
            "/usr/local/lib/python3.6/dist-packages/seaborn/_decorators.py:43: FutureWarning: Pass the following variable as a keyword arg: x. From version 0.12, the only valid positional argument will be `data`, and passing other arguments without an explicit keyword will result in an error or misinterpretation.\n",
            "  FutureWarning\n"
          ],
          "name": "stderr"
        },
        {
          "output_type": "execute_result",
          "data": {
            "text/plain": [
              "<matplotlib.axes._subplots.AxesSubplot at 0x7fe9c6ee6780>"
            ]
          },
          "metadata": {
            "tags": []
          },
          "execution_count": 242
        },
        {
          "output_type": "display_data",
          "data": {
            "image/png": "[encoded data removed]",
            "text/plain": [
              "<Figure size 432x288 with 1 Axes>"
            ]
          },
          "metadata": {
            "tags": [],
            "needs_background": "light"
          }
        }
      ]
    },
    {
      "cell_type": "markdown",
      "metadata": {
        "id": "s8Cjr1DcrWMr"
      },
      "source": [
        "Curtose"
      ]
    },
    {
      "cell_type": "code",
      "metadata": {
        "id": "RP9fXUo0rBHe",
        "outputId": "9a12ad98-2edf-4438-abf8-62f8658180bd",
        "colab": {
          "base_uri": "https://localhost:8080/",
          "height": 350
        }
      },
      "source": [
        "sns.distplot(df_covid['symptom_hospital'])"
      ],
      "execution_count": 255,
      "outputs": [
        {
          "output_type": "stream",
          "text": [
            "/usr/local/lib/python3.6/dist-packages/seaborn/distributions.py:2551: FutureWarning: `distplot` is a deprecated function and will be removed in a future version. Please adapt your code to use either `displot` (a figure-level function with similar flexibility) or `histplot` (an axes-level function for histograms).\n",
            "  warnings.warn(msg, FutureWarning)\n"
          ],
          "name": "stderr"
        },
        {
          "output_type": "execute_result",
          "data": {
            "text/plain": [
              "<matplotlib.axes._subplots.AxesSubplot at 0x7fe9c649d128>"
            ]
          },
          "metadata": {
            "tags": []
          },
          "execution_count": 255
        },
        {
          "output_type": "display_data",
          "data": {
            "image/png": "[encoded data removed]",
            "text/plain": [
              "<Figure size 432x288 with 1 Axes>"
            ]
          },
          "metadata": {
            "tags": [],
            "needs_background": "light"
          }
        }
      ]
    },
    {
      "cell_type": "code",
      "metadata": {
        "id": "WIVseR_hsv_0",
        "outputId": "07fff2d2-a4ed-4cdc-8722-8f745a57ce1e",
        "colab": {
          "base_uri": "https://localhost:8080/"
        }
      },
      "source": [
        "df_covid['symptom_hospital'].kurtosis()"
      ],
      "execution_count": 260,
      "outputs": [
        {
          "output_type": "execute_result",
          "data": {
            "text/plain": [
              "-0.09087066087644846"
            ]
          },
          "metadata": {
            "tags": []
          },
          "execution_count": 260
        }
      ]
    },
    {
      "cell_type": "markdown",
      "metadata": {
        "id": "EgR3QpZdLvA9"
      },
      "source": [
        "### Reporting"
      ]
    },
    {
      "cell_type": "code",
      "metadata": {
        "id": "DexsPu9GLvX3",
        "outputId": "f05a6438-8397-473b-b9c8-b027ceaa99eb",
        "colab": {
          "base_uri": "https://localhost:8080/",
          "height": 632
        }
      },
      "source": [
        "print('Média aritmética: ', round(st.mean(df_covid['reporting']),2))\n",
        "print('\\n')\n",
        "print('Mediana: ', st.median(df_covid['reporting']))\n",
        "print('\\n')\n",
        "print('Moda: ', st.mode(df_covid['reporting']))\n",
        "print('\\n')\n",
        "print('Variância: ', round(st.variance(df_covid['reporting']),2))\n",
        "print('Desvio Padrão: ', round(st.stdev(df_covid['reporting']),2))\n",
        "print('Coeficiente de Variação: ', cv(df_covid['reporting']))\n",
        "print('\\n')\n",
        "print('Quartil: ', np.quantile(df_covid['reporting'], [0, 0.25, 0.5, 0.75, 1]))\n",
        "\n",
        "print('\\n')\n",
        "\n",
        "\n",
        "sns.boxplot(df_covid['reporting'])"
      ],
      "execution_count": 244,
      "outputs": [
        {
          "output_type": "stream",
          "text": [
            "Média aritmética:  3.28\n",
            "\n",
            "\n",
            "Mediana:  2.0\n",
            "\n",
            "\n",
            "Moda:  1\n",
            "\n",
            "\n",
            "Variância:  11.56\n",
            "Desvio Padrão:  3.4\n",
            "Coeficiente de Variação:  103.74\n",
            "\n",
            "\n",
            "Quartil:  [ 0.  1.  2.  4. 13.]\n",
            "\n",
            "\n"
          ],
          "name": "stdout"
        },
        {
          "output_type": "stream",
          "text": [
            "/usr/local/lib/python3.6/dist-packages/seaborn/_decorators.py:43: FutureWarning: Pass the following variable as a keyword arg: x. From version 0.12, the only valid positional argument will be `data`, and passing other arguments without an explicit keyword will result in an error or misinterpretation.\n",
            "  FutureWarning\n"
          ],
          "name": "stderr"
        },
        {
          "output_type": "execute_result",
          "data": {
            "text/plain": [
              "<matplotlib.axes._subplots.AxesSubplot at 0x7fe9c6997f60>"
            ]
          },
          "metadata": {
            "tags": []
          },
          "execution_count": 244
        },
        {
          "output_type": "display_data",
          "data": {
            "image/png": "[encoded data removed]",
            "text/plain": [
              "<Figure size 432x288 with 1 Axes>"
            ]
          },
          "metadata": {
            "tags": [],
            "needs_background": "light"
          }
        }
      ]
    },
    {
      "cell_type": "code",
      "metadata": {
        "id": "LIfsyPlVs-DY",
        "outputId": "2d1b897b-89ed-4d50-a355-cbd6ff9f6650",
        "colab": {
          "base_uri": "https://localhost:8080/",
          "height": 348
        }
      },
      "source": [
        "\n",
        "sns.distplot(df_covid['reporting'])"
      ],
      "execution_count": 262,
      "outputs": [
        {
          "output_type": "stream",
          "text": [
            "/usr/local/lib/python3.6/dist-packages/seaborn/distributions.py:2551: FutureWarning: `distplot` is a deprecated function and will be removed in a future version. Please adapt your code to use either `displot` (a figure-level function with similar flexibility) or `histplot` (an axes-level function for histograms).\n",
            "  warnings.warn(msg, FutureWarning)\n"
          ],
          "name": "stderr"
        },
        {
          "output_type": "execute_result",
          "data": {
            "text/plain": [
              "<matplotlib.axes._subplots.AxesSubplot at 0x7fe9c64a59e8>"
            ]
          },
          "metadata": {
            "tags": []
          },
          "execution_count": 262
        },
        {
          "output_type": "display_data",
          "data": {
            "image/png": "[encoded data removed]",
            "text/plain": [
              "<Figure size 432x288 with 1 Axes>"
            ]
          },
          "metadata": {
            "tags": [],
            "needs_background": "light"
          }
        }
      ]
    },
    {
      "cell_type": "code",
      "metadata": {
        "id": "4jvKvNtLs2AE",
        "outputId": "85e91d78-109f-4b65-c2b2-2eec071bcd1b",
        "colab": {
          "base_uri": "https://localhost:8080/"
        }
      },
      "source": [
        "df_covid['reporting'].kurtosis()"
      ],
      "execution_count": 261,
      "outputs": [
        {
          "output_type": "execute_result",
          "data": {
            "text/plain": [
              "1.5235873743224748"
            ]
          },
          "metadata": {
            "tags": []
          },
          "execution_count": 261
        }
      ]
    },
    {
      "cell_type": "markdown",
      "metadata": {
        "id": "8j5FBprWOy8L"
      },
      "source": [
        "## Comparação "
      ]
    },
    {
      "cell_type": "code",
      "metadata": {
        "id": "rTpVJ8OpOzk-",
        "outputId": "39711b7f-95cf-4da4-eed3-68f0c378e40f",
        "colab": {
          "base_uri": "https://localhost:8080/"
        }
      },
      "source": [
        "x = PrettyTable(['Variável', 'Média', 'Mediana', 'Variância', 'Desvio Padrão', 'Coeficiente de Variação', 'Outliers', 'Assimetria'])\n",
        "x.align['Média'] = 'r'\n",
        "x.align['Variável'] = 'r'\n",
        "x.align['Mediana'] = 'r'\n",
        "x.align['Variância'] = 'r'\n",
        "x.align['Desvio Padrão'] = 'r'\n",
        "x.align['Coeficiente de Variação'] = 'r'\n",
        "x.align['Outliers'] = 'r'\n",
        "x.padding_width = 1\n",
        "\n",
        "x.add_row(['Age', '42.89', '42.0', '195.51', '13.98', '32.91', 'Não', 'Direita'])\n",
        "x.add_row(['exposure duration', '5.11', '2.5', '44.8', '6.69', '132.19', 'Sim', 'Direita'])\n",
        "x.add_row(['symptom hospital', '3.74', '3.0', '10.6', '3.26', '87.85', 'Sim', 'Direita'])\n",
        "x.add_row(['reporting', '3.28', '2.0', '11.35', '3.37', '103.74', 'Sim', 'Direita'])\n",
        "\n",
        "print(x)"
      ],
      "execution_count": 208,
      "outputs": [
        {
          "output_type": "stream",
          "text": [
            "+-------------------+-------+---------+-----------+---------------+-------------------------+----------+------------+\n",
            "|          Variável | Média | Mediana | Variância | Desvio Padrão | Coeficiente de Variação | Outliers | Assimetria |\n",
            "+-------------------+-------+---------+-----------+---------------+-------------------------+----------+------------+\n",
            "|               Age | 42.89 |    42.0 |    195.51 |         13.98 |                   32.91 |      Não |  Direita   |\n",
            "| exposure duration |  5.11 |     2.5 |      44.8 |          6.69 |                  132.19 |      Sim |  Direita   |\n",
            "|  symptom hospital |  3.74 |     3.0 |      10.6 |          3.26 |                   87.85 |      Sim |  Direita   |\n",
            "|         reporting |  3.28 |     2.0 |     11.35 |          3.37 |                  103.74 |      Sim |  Direita   |\n",
            "+-------------------+-------+---------+-----------+---------------+-------------------------+----------+------------+\n"
          ],
          "name": "stdout"
        }
      ]
    },
    {
      "cell_type": "code",
      "metadata": {
        "id": "X114V0nhlZ_f",
        "outputId": "6e9103c3-a64a-4588-f5f4-c3a40916d7fd",
        "colab": {
          "base_uri": "https://localhost:8080/",
          "height": 167
        }
      },
      "source": [
        "df_covid.describe().transpose()"
      ],
      "execution_count": 247,
      "outputs": [
        {
          "output_type": "execute_result",
          "data": {
            "text/html": [
              "<div>\n",
              "<style scoped>\n",
              "    .dataframe tbody tr th:only-of-type {\n",
              "        vertical-align: middle;\n",
              "    }\n",
              "\n",
              "    .dataframe tbody tr th {\n",
              "        vertical-align: top;\n",
              "    }\n",
              "\n",
              "    .dataframe thead th {\n",
              "        text-align: right;\n",
              "    }\n",
              "</style>\n",
              "<table border=\"1\" class=\"dataframe\">\n",
              "  <thead>\n",
              "    <tr style=\"text-align: right;\">\n",
              "      <th></th>\n",
              "      <th>count</th>\n",
              "      <th>mean</th>\n",
              "      <th>std</th>\n",
              "      <th>min</th>\n",
              "      <th>25%</th>\n",
              "      <th>50%</th>\n",
              "      <th>75%</th>\n",
              "      <th>max</th>\n",
              "    </tr>\n",
              "  </thead>\n",
              "  <tbody>\n",
              "    <tr>\n",
              "      <th>age</th>\n",
              "      <td>54.0</td>\n",
              "      <td>42.888889</td>\n",
              "      <td>14.113645</td>\n",
              "      <td>16.0</td>\n",
              "      <td>32.25</td>\n",
              "      <td>42.0</td>\n",
              "      <td>51.75</td>\n",
              "      <td>80.0</td>\n",
              "    </tr>\n",
              "    <tr>\n",
              "      <th>exposure_duration</th>\n",
              "      <td>54.0</td>\n",
              "      <td>5.111111</td>\n",
              "      <td>6.756315</td>\n",
              "      <td>0.0</td>\n",
              "      <td>1.00</td>\n",
              "      <td>2.5</td>\n",
              "      <td>6.00</td>\n",
              "      <td>28.0</td>\n",
              "    </tr>\n",
              "    <tr>\n",
              "      <th>symptom_hospital</th>\n",
              "      <td>54.0</td>\n",
              "      <td>3.740741</td>\n",
              "      <td>3.286250</td>\n",
              "      <td>0.0</td>\n",
              "      <td>1.00</td>\n",
              "      <td>3.0</td>\n",
              "      <td>5.75</td>\n",
              "      <td>13.0</td>\n",
              "    </tr>\n",
              "    <tr>\n",
              "      <th>reporting</th>\n",
              "      <td>54.0</td>\n",
              "      <td>3.277778</td>\n",
              "      <td>3.400425</td>\n",
              "      <td>0.0</td>\n",
              "      <td>1.00</td>\n",
              "      <td>2.0</td>\n",
              "      <td>4.00</td>\n",
              "      <td>13.0</td>\n",
              "    </tr>\n",
              "  </tbody>\n",
              "</table>\n",
              "</div>"
            ],
            "text/plain": [
              "                   count       mean        std   min    25%   50%    75%   max\n",
              "age                 54.0  42.888889  14.113645  16.0  32.25  42.0  51.75  80.0\n",
              "exposure_duration   54.0   5.111111   6.756315   0.0   1.00   2.5   6.00  28.0\n",
              "symptom_hospital    54.0   3.740741   3.286250   0.0   1.00   3.0   5.75  13.0\n",
              "reporting           54.0   3.277778   3.400425   0.0   1.00   2.0   4.00  13.0"
            ]
          },
          "metadata": {
            "tags": []
          },
          "execution_count": 247
        }
      ]
    },
    {
      "cell_type": "markdown",
      "metadata": {
        "id": "-jeD09dbQgX_"
      },
      "source": [
        "Intervalo de Confiança - Age"
      ]
    },
    {
      "cell_type": "code",
      "metadata": {
        "id": "hrzZGZqGQftf",
        "outputId": "3b534f08-2157-47f2-da46-b9fb0e7aab60",
        "colab": {
          "base_uri": "https://localhost:8080/"
        }
      },
      "source": [
        "inf, sup = norm.interval(0.95, loc=round(st.mean(df_covid['age']),2), scale=round(st.stdev(df_covid['age']),2)/np.sqrt(len(df_covid['age'])))\n",
        "print('Limite inferior:', round(inf,3))\n",
        "print('Limite superior:', round(sup,3))"
      ],
      "execution_count": 248,
      "outputs": [
        {
          "output_type": "stream",
          "text": [
            "Limite inferior: 39.127\n",
            "Limite superior: 46.653\n"
          ],
          "name": "stdout"
        }
      ]
    },
    {
      "cell_type": "markdown",
      "metadata": {
        "id": "i2nKftlVUr00"
      },
      "source": [
        "Intervalo de Confiança - exposure duratio"
      ]
    },
    {
      "cell_type": "code",
      "metadata": {
        "id": "TIqBMb2XUruj",
        "outputId": "6887aa58-2650-40b4-a321-cc0361fc5007",
        "colab": {
          "base_uri": "https://localhost:8080/"
        }
      },
      "source": [
        "print(\"Intervalo de Confiança ao nível de 95% para média quando a variância é conhecida\")                                              \n",
        "inf, sup = norm.interval(0.95, loc=round(st.mean(df_covid['exposure_duration']),2), scale=round(st.stdev(df_covid['exposure_duration']),2)/np.sqrt(len(df_covid['exposure_duration']\n",
        "                                                                                    )))\n",
        "print('Limite inferior:', round(inf,3))\n",
        "print('Limite superior:', round(sup,3))"
      ],
      "execution_count": 225,
      "outputs": [
        {
          "output_type": "stream",
          "text": [
            "Intervalo de Confiança ao nível de 95% para média quando a variância é conhecida\n",
            "Limite inferior: 3.307\n",
            "Limite superior: 6.913\n"
          ],
          "name": "stdout"
        }
      ]
    },
    {
      "cell_type": "markdown",
      "metadata": {
        "id": "Z6IJzWFuUwfk"
      },
      "source": [
        "Intervalo de Confiança - symptom hospital"
      ]
    },
    {
      "cell_type": "code",
      "metadata": {
        "id": "cyNda0yjUwXa",
        "outputId": "f381a298-87ee-4775-de1c-c808f594ffe0",
        "colab": {
          "base_uri": "https://localhost:8080/"
        }
      },
      "source": [
        "print(\"Intervalo de Confiança ao nível de 95% para média quando a variância é conhecida\")                                              \n",
        "inf, sup = norm.interval(0.95, loc=round(st.mean(df_covid['symptom_hospital']),2), scale=round(st.stdev(df_covid['symptom_hospital']),2)/np.sqrt(len(df_covid['symptom_hospital'])))\n",
        "print('Limite inferior:', round(inf,3))\n",
        "print('Limite superior:', round(sup,3))"
      ],
      "execution_count": 226,
      "outputs": [
        {
          "output_type": "stream",
          "text": [
            "Intervalo de Confiança ao nível de 95% para média quando a variância é conhecida\n",
            "Limite inferior: 2.863\n",
            "Limite superior: 4.617\n"
          ],
          "name": "stdout"
        }
      ]
    },
    {
      "cell_type": "markdown",
      "metadata": {
        "id": "BoITcKUOU5Rv"
      },
      "source": [
        "Intervalo de Confiança - reporting"
      ]
    },
    {
      "cell_type": "code",
      "metadata": {
        "id": "DUHExP5GU40g",
        "outputId": "a3d15ef2-3bd7-4a2e-fbf0-02c68efe1b18",
        "colab": {
          "base_uri": "https://localhost:8080/"
        }
      },
      "source": [
        "inf, sup = norm.interval(0.95, loc=round(st.mean(df_covid['reporting']),2), scale=round(st.stdev(df_covid['reporting']),2)/np.sqrt(len(df_covid['reporting'])))\n",
        "print('Limite inferior:', round(inf,3))\n",
        "print('Limite superior:', round(sup,3))"
      ],
      "execution_count": 229,
      "outputs": [
        {
          "output_type": "stream",
          "text": [
            "Intervalo de Confiança ao nível de 95% para média quando a variância é conhecida\n",
            "Limite inferior: 2.373\n",
            "Limite superior: 4.187\n"
          ],
          "name": "stdout"
        }
      ]
    },
    {
      "cell_type": "code",
      "metadata": {
        "id": "cFrHcibHWGrR"
      },
      "source": [
        ""
      ],
      "execution_count": null,
      "outputs": []
    }
  ]
}