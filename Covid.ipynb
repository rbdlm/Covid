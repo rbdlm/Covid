{
  "nbformat": 4,
  "nbformat_minor": 0,
  "metadata": {
    "colab": {
      "name": "Covid.ipynb",
      "provenance": [],
      "authorship_tag": "ABX9TyNlvSL96R4mUzD0oeb1BA3S",
      "include_colab_link": true
    },
    "kernelspec": {
      "name": "python3",
      "display_name": "Python 3"
    }
  },
  "cells": [
    {
      "cell_type": "markdown",
      "metadata": {
        "id": "view-in-github",
        "colab_type": "text"
      },
      "source": [
        "<a href=\"https://colab.research.google.com/github/rbdlm/Covid/blob/main/Covid.ipynb\" target=\"_parent\"><img src=\"https://colab.research.google.com/assets/colab-badge.svg\" alt=\"Open In Colab\"/></a>"
      ]
    },
    {
      "cell_type": "markdown",
      "metadata": {
        "id": "AY3N9sNWLBMf"
      },
      "source": [
        "++Analisando os dados validos"
      ]
    },
    {
      "cell_type": "code",
      "metadata": {
        "id": "WMXlsqrn8Zt-",
        "outputId": "7b16f1b9-b58c-45f4-d8be-6e4426cdc63e",
        "colab": {
          "base_uri": "https://localhost:8080/"
        }
      },
      "source": [
        "from google.colab import drive\n",
        "drive.mount('/content/drive')"
      ],
      "execution_count": 18,
      "outputs": [
        {
          "output_type": "stream",
          "text": [
            "Drive already mounted at /content/drive; to attempt to forcibly remount, call drive.mount(\"/content/drive\", force_remount=True).\n"
          ],
          "name": "stdout"
        }
      ]
    },
    {
      "cell_type": "code",
      "metadata": {
        "id": "CKd444J180Rr"
      },
      "source": [
        "import pandas as pd\n",
        "\n",
        "df = pd.read_csv('/content/drive/My Drive/Datasets/COVID19_line_list_data.csv')"
      ],
      "execution_count": 19,
      "outputs": []
    },
    {
      "cell_type": "code",
      "metadata": {
        "id": "qR2TNl32B__4",
        "outputId": "37fa0840-5373-41b2-e12c-335d24dfd798",
        "colab": {
          "base_uri": "https://localhost:8080/",
          "height": 434
        }
      },
      "source": [
        "df.head(3)"
      ],
      "execution_count": 15,
      "outputs": [
        {
          "output_type": "execute_result",
          "data": {
            "text/html": [
              "<div>\n",
              "<style scoped>\n",
              "    .dataframe tbody tr th:only-of-type {\n",
              "        vertical-align: middle;\n",
              "    }\n",
              "\n",
              "    .dataframe tbody tr th {\n",
              "        vertical-align: top;\n",
              "    }\n",
              "\n",
              "    .dataframe thead th {\n",
              "        text-align: right;\n",
              "    }\n",
              "</style>\n",
              "<table border=\"1\" class=\"dataframe\">\n",
              "  <thead>\n",
              "    <tr style=\"text-align: right;\">\n",
              "      <th></th>\n",
              "      <th>id</th>\n",
              "      <th>case_in_country</th>\n",
              "      <th>reporting date</th>\n",
              "      <th>Unnamed: 3</th>\n",
              "      <th>summary</th>\n",
              "      <th>location</th>\n",
              "      <th>country</th>\n",
              "      <th>gender</th>\n",
              "      <th>age</th>\n",
              "      <th>symptom_onset</th>\n",
              "      <th>If_onset_approximated</th>\n",
              "      <th>hosp_visit_date</th>\n",
              "      <th>exposure_start</th>\n",
              "      <th>exposure_end</th>\n",
              "      <th>visiting Wuhan</th>\n",
              "      <th>from Wuhan</th>\n",
              "      <th>death</th>\n",
              "      <th>recovered</th>\n",
              "      <th>symptom</th>\n",
              "      <th>source</th>\n",
              "      <th>link</th>\n",
              "      <th>Unnamed: 21</th>\n",
              "      <th>Unnamed: 22</th>\n",
              "      <th>Unnamed: 23</th>\n",
              "      <th>Unnamed: 24</th>\n",
              "      <th>Unnamed: 25</th>\n",
              "      <th>Unnamed: 26</th>\n",
              "    </tr>\n",
              "  </thead>\n",
              "  <tbody>\n",
              "    <tr>\n",
              "      <th>0</th>\n",
              "      <td>1</td>\n",
              "      <td>NaN</td>\n",
              "      <td>1/20/2020</td>\n",
              "      <td>NaN</td>\n",
              "      <td>First confirmed imported COVID-19 pneumonia pa...</td>\n",
              "      <td>Shenzhen, Guangdong</td>\n",
              "      <td>China</td>\n",
              "      <td>male</td>\n",
              "      <td>66.0</td>\n",
              "      <td>01/03/20</td>\n",
              "      <td>0.0</td>\n",
              "      <td>01/11/20</td>\n",
              "      <td>12/29/2019</td>\n",
              "      <td>01/04/20</td>\n",
              "      <td>1</td>\n",
              "      <td>0.0</td>\n",
              "      <td>0</td>\n",
              "      <td>0</td>\n",
              "      <td>NaN</td>\n",
              "      <td>Shenzhen Municipal Health Commission</td>\n",
              "      <td>http://wjw.sz.gov.cn/wzx/202001/t20200120_1898...</td>\n",
              "      <td>NaN</td>\n",
              "      <td>NaN</td>\n",
              "      <td>NaN</td>\n",
              "      <td>NaN</td>\n",
              "      <td>NaN</td>\n",
              "      <td>NaN</td>\n",
              "    </tr>\n",
              "    <tr>\n",
              "      <th>1</th>\n",
              "      <td>2</td>\n",
              "      <td>NaN</td>\n",
              "      <td>1/20/2020</td>\n",
              "      <td>NaN</td>\n",
              "      <td>First confirmed imported COVID-19 pneumonia pa...</td>\n",
              "      <td>Shanghai</td>\n",
              "      <td>China</td>\n",
              "      <td>female</td>\n",
              "      <td>56.0</td>\n",
              "      <td>1/15/2020</td>\n",
              "      <td>0.0</td>\n",
              "      <td>1/15/2020</td>\n",
              "      <td>NaN</td>\n",
              "      <td>01/12/20</td>\n",
              "      <td>0</td>\n",
              "      <td>1.0</td>\n",
              "      <td>0</td>\n",
              "      <td>0</td>\n",
              "      <td>NaN</td>\n",
              "      <td>Official Weibo of Shanghai Municipal Health Co...</td>\n",
              "      <td>https://www.weibo.com/2372649470/IqogQhgfa?fro...</td>\n",
              "      <td>NaN</td>\n",
              "      <td>NaN</td>\n",
              "      <td>NaN</td>\n",
              "      <td>NaN</td>\n",
              "      <td>NaN</td>\n",
              "      <td>NaN</td>\n",
              "    </tr>\n",
              "    <tr>\n",
              "      <th>2</th>\n",
              "      <td>3</td>\n",
              "      <td>NaN</td>\n",
              "      <td>1/21/2020</td>\n",
              "      <td>NaN</td>\n",
              "      <td>First confirmed imported cases in Zhejiang: pa...</td>\n",
              "      <td>Zhejiang</td>\n",
              "      <td>China</td>\n",
              "      <td>male</td>\n",
              "      <td>46.0</td>\n",
              "      <td>01/04/20</td>\n",
              "      <td>0.0</td>\n",
              "      <td>1/17/2020</td>\n",
              "      <td>NaN</td>\n",
              "      <td>01/03/20</td>\n",
              "      <td>0</td>\n",
              "      <td>1.0</td>\n",
              "      <td>0</td>\n",
              "      <td>0</td>\n",
              "      <td>NaN</td>\n",
              "      <td>Health Commission of Zhejiang Province</td>\n",
              "      <td>http://www.zjwjw.gov.cn/art/2020/1/21/art_1202...</td>\n",
              "      <td>NaN</td>\n",
              "      <td>NaN</td>\n",
              "      <td>NaN</td>\n",
              "      <td>NaN</td>\n",
              "      <td>NaN</td>\n",
              "      <td>NaN</td>\n",
              "    </tr>\n",
              "  </tbody>\n",
              "</table>\n",
              "</div>"
            ],
            "text/plain": [
              "   id  case_in_country reporting date  ...  Unnamed: 24 Unnamed: 25 Unnamed: 26\n",
              "0   1              NaN      1/20/2020  ...          NaN         NaN         NaN\n",
              "1   2              NaN      1/20/2020  ...          NaN         NaN         NaN\n",
              "2   3              NaN      1/21/2020  ...          NaN         NaN         NaN\n",
              "\n",
              "[3 rows x 27 columns]"
            ]
          },
          "metadata": {
            "tags": []
          },
          "execution_count": 15
        }
      ]
    },
    {
      "cell_type": "code",
      "metadata": {
        "id": "-ZCin7OyJvEE",
        "outputId": "d7b0c225-03fe-4769-ff78-801b108f3574",
        "colab": {
          "base_uri": "https://localhost:8080/"
        }
      },
      "source": [
        "df.info()"
      ],
      "execution_count": 16,
      "outputs": [
        {
          "output_type": "stream",
          "text": [
            "<class 'pandas.core.frame.DataFrame'>\n",
            "RangeIndex: 1085 entries, 0 to 1084\n",
            "Data columns (total 27 columns):\n",
            " #   Column                 Non-Null Count  Dtype  \n",
            "---  ------                 --------------  -----  \n",
            " 0   id                     1085 non-null   int64  \n",
            " 1   case_in_country        888 non-null    float64\n",
            " 2   reporting date         1084 non-null   object \n",
            " 3   Unnamed: 3             0 non-null      float64\n",
            " 4   summary                1080 non-null   object \n",
            " 5   location               1085 non-null   object \n",
            " 6   country                1085 non-null   object \n",
            " 7   gender                 902 non-null    object \n",
            " 8   age                    843 non-null    float64\n",
            " 9   symptom_onset          563 non-null    object \n",
            " 10  If_onset_approximated  560 non-null    float64\n",
            " 11  hosp_visit_date        507 non-null    object \n",
            " 12  exposure_start         128 non-null    object \n",
            " 13  exposure_end           341 non-null    object \n",
            " 14  visiting Wuhan         1085 non-null   int64  \n",
            " 15  from Wuhan             1081 non-null   float64\n",
            " 16  death                  1085 non-null   object \n",
            " 17  recovered              1085 non-null   object \n",
            " 18  symptom                270 non-null    object \n",
            " 19  source                 1085 non-null   object \n",
            " 20  link                   1085 non-null   object \n",
            " 21  Unnamed: 21            0 non-null      float64\n",
            " 22  Unnamed: 22            0 non-null      float64\n",
            " 23  Unnamed: 23            0 non-null      float64\n",
            " 24  Unnamed: 24            0 non-null      float64\n",
            " 25  Unnamed: 25            0 non-null      float64\n",
            " 26  Unnamed: 26            0 non-null      float64\n",
            "dtypes: float64(11), int64(2), object(14)\n",
            "memory usage: 229.0+ KB\n"
          ],
          "name": "stdout"
        }
      ]
    },
    {
      "cell_type": "code",
      "metadata": {
        "id": "CAuboaWQKjlk",
        "outputId": "c80e8714-db09-4cec-e840-81392b95fd45",
        "colab": {
          "base_uri": "https://localhost:8080/"
        }
      },
      "source": [
        "df.isnull().sum()"
      ],
      "execution_count": 17,
      "outputs": [
        {
          "output_type": "execute_result",
          "data": {
            "text/plain": [
              "id                          0\n",
              "case_in_country           197\n",
              "reporting date              1\n",
              "Unnamed: 3               1085\n",
              "summary                     5\n",
              "location                    0\n",
              "country                     0\n",
              "gender                    183\n",
              "age                       242\n",
              "symptom_onset             522\n",
              "If_onset_approximated     525\n",
              "hosp_visit_date           578\n",
              "exposure_start            957\n",
              "exposure_end              744\n",
              "visiting Wuhan              0\n",
              "from Wuhan                  4\n",
              "death                       0\n",
              "recovered                   0\n",
              "symptom                   815\n",
              "source                      0\n",
              "link                        0\n",
              "Unnamed: 21              1085\n",
              "Unnamed: 22              1085\n",
              "Unnamed: 23              1085\n",
              "Unnamed: 24              1085\n",
              "Unnamed: 25              1085\n",
              "Unnamed: 26              1085\n",
              "dtype: int64"
            ]
          },
          "metadata": {
            "tags": []
          },
          "execution_count": 17
        }
      ]
    }
  ]
}